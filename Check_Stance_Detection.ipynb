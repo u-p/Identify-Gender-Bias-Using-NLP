{
 "cells": [
  {
   "cell_type": "code",
   "execution_count": 9,
   "id": "2cd9e979",
   "metadata": {},
   "outputs": [],
   "source": [
    "import os\n",
    "import pandas as pd\n",
    "import matplotlib.pyplot as plt\n"
   ]
  },
  {
   "cell_type": "code",
   "execution_count": 2,
   "id": "9f8a0320",
   "metadata": {},
   "outputs": [
    {
     "name": "stdout",
     "output_type": "stream",
     "text": [
      "        Unnamed: 0      id                                        Description  \\\n",
      "0           120000  120000  What causes abdominal pains and painful bowel ...   \n",
      "1           120001  120001  What causes intermittent hot sensation in the ...   \n",
      "2           120002  120002             How to cure stomach pain after eating?   \n",
      "3           120003  120003   Suggest treatment for right lower abdominal pain   \n",
      "4           120004  120004                  What causes lower Abdominal pain?   \n",
      "...            ...     ...                                                ...   \n",
      "149995       29995   29995  Q. Please suggest me a suitable therapy for lo...   \n",
      "149996       29996   29996          Q. Can Kapalbhati pranayama cause hernia?   \n",
      "149997       29997   29997  Q. Can you read my MRI and explain the reason ...   \n",
      "149998       29998   29998  Q. Could you explain the exact reason for my c...   \n",
      "149999       29999   29999  Q. l got a sore hard lump after the removal of...   \n",
      "\n",
      "                                                   Doctor  \\\n",
      "0       Hi.Thanks for an elucidate history and your qu...   \n",
      "1       Hi there,Welcome to healthcaremagic.I read you...   \n",
      "2       Hi ! Good evening. I am Dr Shareef answering y...   \n",
      "3       Hi! Good evening. I am Dr Shareef answering yo...   \n",
      "4       Hi! Good evening. I am Dr Shareef answering yo...   \n",
      "...                                                   ...   \n",
      "149995  Hi. Revert back with the reports to a medical ...   \n",
      "149996  Hi. For further information consult a surgical...   \n",
      "149997  Hi. Please find my observations on the MRI sca...   \n",
      "149998  Hello. I had gone through all the data posted ...   \n",
      "149999  Hello. The lump is mostly a hard swelling whic...   \n",
      "\n",
      "                                                  Patient  Self Gender  \\\n",
      "0       I am have intermittent, very intensely hot sen...     1      X   \n",
      "1       I have been having sharp stomach pains after I...     1      F   \n",
      "2       I experience rt.lower abdominal pain since yes...     1      X   \n",
      "3       hello, Im stephanie, 40 years old. I have my o...     1      X   \n",
      "4       i have had abdominal pain on and off badly the...     1      X   \n",
      "...                                                   ...   ...    ...   \n",
      "149995  Hello doctor, I am a 38 year old male. Four mo...     1      M   \n",
      "149996  Hello doctor, I have been doing Kapalbhati pra...     1      X   \n",
      "149997  Hi doctor,I am suffering from right heel pain ...     1      X   \n",
      "149998  Hi doctor, I have continuous lower leg pain fo...     1      X   \n",
      "149999  Hello doctor,I just got one side of my wisdom ...     1      X   \n",
      "\n",
      "        Gend_bias_freq  Response_len  Disagree_freq  entailment  neutral  \\\n",
      "0                    0            83              1        98.1      1.0   \n",
      "1                    0           135              3        27.6     72.4   \n",
      "2                    0           240              1         0.2     99.8   \n",
      "3                    0           152              1         0.2     99.7   \n",
      "4                    0           227              2         0.2     99.8   \n",
      "...                ...           ...            ...         ...      ...   \n",
      "149995               0            16              0         0.1     99.9   \n",
      "149996               0            14              0         0.1     99.9   \n",
      "149997               0            27              0         0.0    100.0   \n",
      "149998               0            47              0         0.0     99.9   \n",
      "149999               0           100              0         3.5     96.5   \n",
      "\n",
      "        contradiction  \n",
      "0                 0.9  \n",
      "1                 0.0  \n",
      "2                 0.0  \n",
      "3                 0.0  \n",
      "4                 0.0  \n",
      "...               ...  \n",
      "149995            0.0  \n",
      "149996            0.0  \n",
      "149997            0.0  \n",
      "149998            0.0  \n",
      "149999            0.0  \n",
      "\n",
      "[150000 rows x 13 columns]\n"
     ]
    }
   ],
   "source": [
    "folder_path = './Stance-files/'\n",
    "\n",
    "# Get a list of all CSV files in the folder\n",
    "csv_files = [file for file in os.listdir(folder_path) if file.endswith('.csv')]\n",
    "\n",
    "# Initialize an empty list to store individual DataFrames\n",
    "dfs = []\n",
    "\n",
    "# Read each CSV file and append its DataFrame to the list\n",
    "for csv_file in csv_files:\n",
    "    file_path = os.path.join(folder_path, csv_file)\n",
    "    df = pd.read_csv(file_path)\n",
    "    dfs.append(df)\n",
    "\n",
    "# Concatenate all DataFrames into a single DataFrame\n",
    "combined_df = pd.concat(dfs, ignore_index=True)\n",
    "\n",
    "# Print the combined DataFrame\n",
    "print(combined_df)"
   ]
  },
  {
   "cell_type": "code",
   "execution_count": 3,
   "id": "feaa5d87",
   "metadata": {},
   "outputs": [
    {
     "data": {
      "text/plain": [
       "(150000, 13)"
      ]
     },
     "execution_count": 3,
     "metadata": {},
     "output_type": "execute_result"
    }
   ],
   "source": [
    "combined_df.shape"
   ]
  },
  {
   "cell_type": "code",
   "execution_count": 4,
   "id": "718ab507",
   "metadata": {},
   "outputs": [
    {
     "data": {
      "text/plain": [
       "Gender\n",
       "F    27.221262\n",
       "M    25.471824\n",
       "X    25.332265\n",
       "Name: entailment, dtype: float64"
      ]
     },
     "execution_count": 4,
     "metadata": {},
     "output_type": "execute_result"
    }
   ],
   "source": [
    "combined_df.groupby('Gender')['entailment'].mean()"
   ]
  },
  {
   "cell_type": "code",
   "execution_count": 5,
   "id": "730bf242",
   "metadata": {
    "scrolled": true
   },
   "outputs": [
    {
     "data": {
      "text/plain": [
       "Gender\n",
       "F    1.871137\n",
       "M    2.239815\n",
       "X    2.119247\n",
       "Name: contradiction, dtype: float64"
      ]
     },
     "execution_count": 5,
     "metadata": {},
     "output_type": "execute_result"
    }
   ],
   "source": [
    "combined_df.groupby('Gender')['contradiction'].mean()"
   ]
  },
  {
   "cell_type": "code",
   "execution_count": 6,
   "id": "3a66099f",
   "metadata": {
    "scrolled": true
   },
   "outputs": [
    {
     "data": {
      "text/plain": [
       "Gender\n",
       "F    70.891384\n",
       "M    72.278123\n",
       "X    72.536100\n",
       "Name: neutral, dtype: float64"
      ]
     },
     "execution_count": 6,
     "metadata": {},
     "output_type": "execute_result"
    }
   ],
   "source": [
    "combined_df.groupby('Gender')['neutral'].mean()"
   ]
  },
  {
   "cell_type": "code",
   "execution_count": 18,
   "id": "085aa5e4",
   "metadata": {},
   "outputs": [],
   "source": [
    "# # Calculate the mean frequency of gender-biased words by genders\n",
    "# mean_gender_bias_words = combined_df.groupby('Gender')['entailment'].mean()\n",
    "\n",
    "# # Create a bar plot\n",
    "# mean_gender_bias_words.plot(kind='barh')\n",
    "\n",
    "# # Set the labels and title\n",
    "# plt.ylabel('')\n",
    "# plt.xlabel('mean %')\n",
    "# plt.title('ENTAILMENT')\n",
    "\n",
    "# # Display the plot\n",
    "# plt.show()"
   ]
  },
  {
   "cell_type": "code",
   "execution_count": 17,
   "id": "31b3cbf9",
   "metadata": {},
   "outputs": [
    {
     "name": "stderr",
     "output_type": "stream",
     "text": [
      "/var/folders/jw/n8wft_y53cd1wy9pvyztfvc00000gr/T/ipykernel_13211/2726516445.py:1: FutureWarning: Indexing with multiple keys (implicitly converted to a tuple of keys) will be deprecated, use a list instead.\n",
      "  combined_df.groupby('Gender')['entailment', 'neutral', 'contradiction'].mean().plot(kind='barh')\n"
     ]
    },
    {
     "data": {
      "text/plain": [
       "<Axes: ylabel='Gender'>"
      ]
     },
     "execution_count": 17,
     "metadata": {},
     "output_type": "execute_result"
    },
    {
     "data": {
      "image/png": "[encoded data removed]",
      "text/plain": [
       "<Figure size 432x288 with 1 Axes>"
      ]
     },
     "metadata": {
      "needs_background": "light"
     },
     "output_type": "display_data"
    }
   ],
   "source": [
    "combined_df.groupby('Gender')['entailment', 'neutral', 'contradiction'].mean().plot(kind='barh')"
   ]
  },
  {
   "cell_type": "code",
   "execution_count": null,
   "id": "205cda96",
   "metadata": {},
   "outputs": [],
   "source": []
  }
 ],
 "metadata": {
  "kernelspec": {
   "display_name": "Python 3 (ipykernel)",
   "language": "python",
   "name": "python3"
  },
  "language_info": {
   "codemirror_mode": {
    "name": "ipython",
    "version": 3
   },
   "file_extension": ".py",
   "mimetype": "text/x-python",
   "name": "python",
   "nbconvert_exporter": "python",
   "pygments_lexer": "ipython3",
   "version": "3.9.6"
  }
 },
 "nbformat": 4,
 "nbformat_minor": 5
}
